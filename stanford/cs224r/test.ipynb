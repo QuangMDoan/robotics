{
 "cells": [
  {
   "cell_type": "code",
   "execution_count": 4,
   "id": "ec26a9a8",
   "metadata": {},
   "outputs": [
    {
     "name": "stdout",
     "output_type": "stream",
     "text": [
      "python version: 3.13.3 | packaged by conda-forge | (main, Apr 14 2025, 20:44:03) [GCC 13.3.0]\n",
      "pytorch version: 2.6.0+cu118\n",
      "pytorch GPU: True\n"
     ]
    }
   ],
   "source": [
    "import sys \n",
    "import torch\n",
    "import numpy as np\n",
    "\n",
    "print(f\"python version: {sys.version}\")\n",
    "print(f\"pytorch version: {torch.__version__}\")\n",
    "print(f\"pytorch GPU: {torch.cuda.is_available()}\")"
   ]
  }
 ],
 "metadata": {
  "kernelspec": {
   "display_name": "cs224r",
   "language": "python",
   "name": "python3"
  },
  "language_info": {
   "codemirror_mode": {
    "name": "ipython",
    "version": 3
   },
   "file_extension": ".py",
   "mimetype": "text/x-python",
   "name": "python",
   "nbconvert_exporter": "python",
   "pygments_lexer": "ipython3",
   "version": "3.13.3"
  }
 },
 "nbformat": 4,
 "nbformat_minor": 5
}
