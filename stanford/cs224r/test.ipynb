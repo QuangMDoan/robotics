{
 "cells": [
  {
   "cell_type": "code",
   "execution_count": 2,
   "id": "ec26a9a8",
   "metadata": {},
   "outputs": [
    {
     "name": "stdout",
     "output_type": "stream",
     "text": [
      "python version: 3.13.3 | packaged by conda-forge | (main, Apr 14 2025, 20:44:03) [GCC 13.3.0]\n",
      "pytorch version: 2.6.0+cu118\n",
      "pytorch GPU: True\n"
     ]
    }
   ],
   "source": [
    "import sys \n",
    "import torch\n",
    "import numpy as np\n",
    "\n",
    "print(f\"python version: {sys.version}\")\n",
    "print(f\"pytorch version: {torch.__version__}\")\n",
    "print(f\"pytorch GPU: {torch.cuda.is_available()}\")"
   ]
  },
  {
   "cell_type": "code",
   "execution_count": null,
   "id": "cc4364ee",
   "metadata": {},
   "outputs": [
    {
     "name": "stdout",
     "output_type": "stream",
     "text": [
      "Tensor from list of lists: \n",
      " tensor([[1, 2, 3],\n",
      "        [4, 5, 6]])\n",
      "Tensor from np array: \n",
      " tensor([[1., 2.],\n",
      "        [3., 4.]], dtype=torch.float64)\n"
     ]
    }
   ],
   "source": [
    "# 1. Create a tensor from list of lists\n",
    "a = torch.tensor([[1, 2, 3], [4, 5, 6]])\n",
    "print(\"Tensor from list of lists: \\n\", a)\n",
    "\n",
    "# Create a tensor from numpy array\n",
    "np_arr = np.array([[1.0, 2.0], [3, 4]])\n",
    "b = torch.from_numpy(np_arr)\n",
    "print(\"Tensor from np array: \\n\", b)\n",
    "\n",
    "\n",
    "# Create a tensor from PyTorch library \n",
    "c = torch.rann(2, 3)\n"
   ]
  }
 ],
 "metadata": {
  "kernelspec": {
   "display_name": "cs224r",
   "language": "python",
   "name": "python3"
  },
  "language_info": {
   "codemirror_mode": {
    "name": "ipython",
    "version": 3
   },
   "file_extension": ".py",
   "mimetype": "text/x-python",
   "name": "python",
   "nbconvert_exporter": "python",
   "pygments_lexer": "ipython3",
   "version": "3.13.3"
  }
 },
 "nbformat": 4,
 "nbformat_minor": 5
}
